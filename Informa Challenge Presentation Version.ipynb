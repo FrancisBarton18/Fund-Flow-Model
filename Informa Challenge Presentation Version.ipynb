{
 "cells": [
  {
   "cell_type": "code",
   "execution_count": 339,
   "metadata": {},
   "outputs": [],
   "source": [
    "#Import libraries\n",
    "import numpy as np\n",
    "import pandas as pd\n",
    "import requests\n",
    "import xlsxwriter \n",
    "import math\n",
    "from scipy import stats\n",
    "import statsmodels.api as sm\n",
    "import matplotlib.pyplot as plt\n",
    "import datetime\n",
    "%matplotlib inline\n",
    "from matplotlib.pylab import rcParams\n",
    "rcParams['figure.figsize']=20,10\n",
    "import tensorflow as tf\n",
    "from tensorflow import keras\n",
    "from keras.models import Sequential\n",
    "from keras.layers import LSTM,Dropout,Dense\n",
    "from sklearn.preprocessing import MinMaxScaler\n",
    "from numpy import array\n",
    "from numpy import hstack"
   ]
  },
  {
   "cell_type": "code",
   "execution_count": 341,
   "metadata": {},
   "outputs": [],
   "source": [
    "#Read both files in\n",
    "ExchRates = pd.read_csv('ExchRates.csv', index_col=0)\n",
    "FX_Daily = pd.read_csv('FX-Daily.csv', index_col=0)\n",
    "\n",
    "#Convert date column into readable dates and find common dates\n",
    "ExchRates.index = pd.to_datetime(ExchRates.index, format='%Y%m%d')\n",
    "FX_Daily.index = pd.to_datetime(FX_Daily.index, format='%Y%m%d')\n",
    "CommonRows = np.intersect1d(ExchRates.index, FX_Daily.index)\n",
    "\n",
    "#Keep rows that are common between data sets (dates are identical)\n",
    "ExchRates = ExchRates.loc[CommonRows]\n",
    "FX_Daily = FX_Daily.loc[CommonRows]\n",
    "\n",
    "#Keep columns that are common between date sets (currencies are identical)\n",
    "CommonColumns = ['CAD', 'EUR', 'NOK', 'SEK', 'CHF', 'GBP', 'AUD', 'JPY', 'NZD']\n",
    "ExchRates = ExchRates[CommonColumns]\n",
    "FX_Daily = FX_Daily[CommonColumns]\n",
    "#ExchRates = ExchRates.sort_index(axis=1)\n",
    "#FX_Daily = FX_Daily.sort_index(axis=1)\n",
    "\n",
    "#Shift FX_Daily two steps forward to when it comes avaiable\n",
    "#Shift ExchRates data 7 steps forward as we need to predict a week in advance\n",
    "FX_Daily = FX_Daily.shift(2)\n",
    "ExchRates = ExchRates.shift(-7)"
   ]
  },
  {
   "cell_type": "code",
   "execution_count": 342,
   "metadata": {},
   "outputs": [],
   "source": [
    "#Trim dates so null values are not included post-shift\n",
    "after_start_date = FX_Daily.index >= \"2007-04-26\"\n",
    "before_end_date = FX_Daily.index <= \"2020-12-28\"\n",
    "between_two_dates = after_start_date & before_end_date\n",
    "ExchRates = ExchRates.loc[between_two_dates]\n",
    "FX_Daily = FX_Daily.loc[between_two_dates]"
   ]
  },
  {
   "cell_type": "code",
   "execution_count": 343,
   "metadata": {},
   "outputs": [],
   "source": [
    "dateDF = ExchRates.index"
   ]
  },
  {
   "cell_type": "code",
   "execution_count": 344,
   "metadata": {},
   "outputs": [],
   "source": [
    "#Create a Dictionary of dataframes with the respective FX_Daily and ExchRates columns for each company zipped together\n",
    "d = {}\n",
    "for column in CommonColumns:\n",
    "    d[column] = pd.concat([FX_Daily[column], ExchRates[column]], axis=1, keys=[column + ' FX_Daily', column + ' ExchRates' ])"
   ]
  },
  {
   "cell_type": "code",
   "execution_count": 375,
   "metadata": {},
   "outputs": [],
   "source": [
    "cRMSE = []\n",
    "OneWeekVal = []\n",
    "OneWeekPriceChange = []"
   ]
  },
  {
   "cell_type": "code",
   "execution_count": 455,
   "metadata": {},
   "outputs": [],
   "source": [
    "#Choose currency of interest\n",
    "CurrencyOfInterest = 'NZD'\n",
    "datasetdf = d[CurrencyOfInterest].astype('float32')\n",
    "#dataset[CurrencyOfInterest + ' ExchRates'] = np.log(dataset[CurrencyOfInterest + ' ExchRates'])\n",
    "#dataset = datasetdf.to_numpy()\n",
    "#dataset = dataset.tolist()\n",
    "dataFX = datasetdf[CurrencyOfInterest + ' FX_Daily'].to_numpy()\n",
    "dataER = datasetdf[CurrencyOfInterest + ' ExchRates'].to_numpy()\n",
    "#dataActual = dataER[-7:]"
   ]
  },
  {
   "cell_type": "code",
   "execution_count": 441,
   "metadata": {},
   "outputs": [],
   "source": [
    "#Split a multivariate sequence into samples\n",
    "def split_sequences(sequences, n_steps):\n",
    "    X, y = list(), list()\n",
    "    for i in range(len(sequences)):\n",
    "        # find the end of this pattern\n",
    "        end_ix = i + n_steps\n",
    "        # check if we are beyond the dataset\n",
    "        if end_ix > len(sequences):\n",
    "            break\n",
    "        # gather input and output parts of the pattern\n",
    "        seq_x, seq_y = sequences[i:end_ix, :-1], sequences[end_ix-1, -1]\n",
    "        X.append(seq_x)\n",
    "        y.append(seq_y)\n",
    "    return array(X), array(y)\n",
    " \n",
    "#Define input sequence\n",
    "in_seq1 = dataFX[:-7]\n",
    "out_seq = dataER[:-7]\n",
    "#Convert to [rows, columns] structure\n",
    "in_seq1 = in_seq1.reshape((len(in_seq1), 1))\n",
    "out_seq = out_seq.reshape((len(out_seq), 1))\n",
    "#Horizontally stack columns\n",
    "dataset = hstack((in_seq1, out_seq))\n",
    "#Choose a number of time steps\n",
    "n_steps = 1\n",
    "#Convert into input/output\n",
    "X, y = split_sequences(dataset, n_steps)\n",
    "#Print(X.shape, y.shape)\n",
    "#Summarize the data\n",
    "#For i in range(len(X)):\n",
    "    #Print(X[i], y[i])"
   ]
  },
  {
   "cell_type": "code",
   "execution_count": 442,
   "metadata": {},
   "outputs": [
    {
     "name": "stdout",
     "output_type": "stream",
     "text": [
      "WARNING:tensorflow:11 out of the last 11 calls to <function Model.make_predict_function.<locals>.predict_function at 0x000001CF0FFB1310> triggered tf.function retracing. Tracing is expensive and the excessive number of tracings could be due to (1) creating @tf.function repeatedly in a loop, (2) passing tensors with different shapes, (3) passing Python objects instead of tensors. For (1), please define your @tf.function outside of the loop. For (2), @tf.function has experimental_relax_shapes=True option that relaxes argument shapes that can avoid unnecessary retracing. For (3), please refer to https://www.tensorflow.org/guide/function#controlling_retracing and https://www.tensorflow.org/api_docs/python/tf/function for  more details.\n",
      "[[1.3816268]\n",
      " [1.3929921]\n",
      " [1.3731741]\n",
      " [1.3866082]\n",
      " [1.394301 ]\n",
      " [1.3899266]\n",
      " [1.3969738]]\n"
     ]
    }
   ],
   "source": [
    "n_features = X.shape[2]\n",
    "#Define model\n",
    "model = Sequential()\n",
    "model.add(LSTM(50, activation='relu', input_shape=(n_steps, n_features)))\n",
    "model.add(Dense(1))\n",
    "model.compile(optimizer='adam', loss='mse')\n",
    "#Fit model\n",
    "model.fit(X, y, epochs=200, verbose=0)\n",
    "#Demonstrate prediction\n",
    "x_input = X[-7:]\n",
    "x_input = x_input.reshape((7, n_steps, n_features))\n",
    "yhat = model.predict(x_input, verbose=0)\n",
    "print(yhat)"
   ]
  },
  {
   "cell_type": "code",
   "execution_count": 454,
   "metadata": {},
   "outputs": [],
   "source": [
    "from sklearn.metrics import mean_squared_error\n",
    "mse = mean_squared_error(dataActual.reshape(-1,1), yhat)\n",
    "\n",
    "rmse = math.sqrt(mse)\n",
    "cRMSE.append(rmse)"
   ]
  },
  {
   "cell_type": "code",
   "execution_count": 444,
   "metadata": {},
   "outputs": [],
   "source": [
    "#Split a multivariate sequence into samples\n",
    "def split_sequencesforpricechange(sequences, n_steps):\n",
    "    X, y = list(), list()\n",
    "    for i in range(len(sequences)):\n",
    "        # find the end of this pattern\n",
    "        end_ix = i + n_steps\n",
    "        # check if we are beyond the dataset\n",
    "        if end_ix > len(sequences):\n",
    "            break\n",
    "        # gather input and output parts of the pattern\n",
    "        seq_x, seq_y = sequences[i:end_ix, :-1], sequences[end_ix-1, -1]\n",
    "        X.append(seq_x)\n",
    "        y.append(seq_y)\n",
    "    return array(X), array(y)\n",
    " \n",
    "#Define input sequence\n",
    "in_seq1 = dataFX[:-1]\n",
    "out_seq = dataER[:-1]\n",
    "#Convert to [rows, columns] structure\n",
    "in_seq1 = in_seq1.reshape((len(in_seq1), 1))\n",
    "out_seq = out_seq.reshape((len(out_seq), 1))\n",
    "#Horizontally stack columns\n",
    "dataset = hstack((in_seq1, out_seq))\n",
    "#Choose a number of time steps\n",
    "n_steps = 1\n",
    "#Convert into input/output\n",
    "X, y = split_sequencesforpricechange(dataset, n_steps)\n",
    "#Print(X.shape, y.shape)\n",
    "#Summarize the data\n",
    "#For i in range(len(X)):\n",
    "    #Print(X[i], y[i])"
   ]
  },
  {
   "cell_type": "code",
   "execution_count": 445,
   "metadata": {},
   "outputs": [
    {
     "name": "stdout",
     "output_type": "stream",
     "text": [
      "WARNING:tensorflow:11 out of the last 11 calls to <function Model.make_predict_function.<locals>.predict_function at 0x000001CF0FFB1AF0> triggered tf.function retracing. Tracing is expensive and the excessive number of tracings could be due to (1) creating @tf.function repeatedly in a loop, (2) passing tensors with different shapes, (3) passing Python objects instead of tensors. For (1), please define your @tf.function outside of the loop. For (2), @tf.function has experimental_relax_shapes=True option that relaxes argument shapes that can avoid unnecessary retracing. For (3), please refer to https://www.tensorflow.org/guide/function#controlling_retracing and https://www.tensorflow.org/api_docs/python/tf/function for  more details.\n",
      "[[1.3880926]]\n"
     ]
    }
   ],
   "source": [
    "n_features = X.shape[2]\n",
    "# define model\n",
    "model = Sequential()\n",
    "model.add(LSTM(50, activation='relu', input_shape=(n_steps, n_features)))\n",
    "model.add(Dense(1))\n",
    "model.compile(optimizer='adam', loss='mse')\n",
    "# fit model\n",
    "model.fit(X, y, epochs=200, verbose=0)\n",
    "# demonstrate prediction\n",
    "x_input = X[-1:]\n",
    "x_input = x_input.reshape((1, n_steps, n_features))\n",
    "yhat = model.predict(x_input, verbose=0)\n",
    "print(yhat)"
   ]
  },
  {
   "cell_type": "code",
   "execution_count": 453,
   "metadata": {},
   "outputs": [],
   "source": [
    "yhat = yhat.tolist()\n",
    "OneWeekVal.append(yhat[0][0])"
   ]
  },
  {
   "cell_type": "code",
   "execution_count": 452,
   "metadata": {},
   "outputs": [],
   "source": [
    "newP=yhat[0][0]\n",
    "oldP= dataER[-7:-6][0]\n",
    "pctchange = ((newP-oldP)/oldP)*100\n",
    "OneWeekPriceChange.append(pctchange)"
   ]
  },
  {
   "cell_type": "code",
   "execution_count": 449,
   "metadata": {},
   "outputs": [
    {
     "data": {
      "text/html": [
       "<div>\n",
       "<style scoped>\n",
       "    .dataframe tbody tr th:only-of-type {\n",
       "        vertical-align: middle;\n",
       "    }\n",
       "\n",
       "    .dataframe tbody tr th {\n",
       "        vertical-align: top;\n",
       "    }\n",
       "\n",
       "    .dataframe thead th {\n",
       "        text-align: right;\n",
       "    }\n",
       "</style>\n",
       "<table border=\"1\" class=\"dataframe\">\n",
       "  <thead>\n",
       "    <tr style=\"text-align: right;\">\n",
       "      <th></th>\n",
       "      <th>T+1 Price</th>\n",
       "      <th>T+1 Price Change</th>\n",
       "      <th>RMSE</th>\n",
       "    </tr>\n",
       "    <tr>\n",
       "      <th>Currency</th>\n",
       "      <th></th>\n",
       "      <th></th>\n",
       "      <th></th>\n",
       "    </tr>\n",
       "  </thead>\n",
       "  <tbody>\n",
       "    <tr>\n",
       "      <th>CAD</th>\n",
       "      <td>1.194404</td>\n",
       "      <td>-6.818198</td>\n",
       "      <td>0.102099</td>\n",
       "    </tr>\n",
       "    <tr>\n",
       "      <th>EUR</th>\n",
       "      <td>0.780609</td>\n",
       "      <td>-4.372336</td>\n",
       "      <td>0.006269</td>\n",
       "    </tr>\n",
       "    <tr>\n",
       "      <th>NOK</th>\n",
       "      <td>7.023805</td>\n",
       "      <td>-18.516394</td>\n",
       "      <td>1.605652</td>\n",
       "    </tr>\n",
       "    <tr>\n",
       "      <th>SEK</th>\n",
       "      <td>7.713229</td>\n",
       "      <td>-5.986676</td>\n",
       "      <td>0.393708</td>\n",
       "    </tr>\n",
       "    <tr>\n",
       "      <th>CHF</th>\n",
       "      <td>0.988790</td>\n",
       "      <td>11.828758</td>\n",
       "      <td>0.115737</td>\n",
       "    </tr>\n",
       "    <tr>\n",
       "      <th>GBP</th>\n",
       "      <td>0.655035</td>\n",
       "      <td>-11.553491</td>\n",
       "      <td>0.077385</td>\n",
       "    </tr>\n",
       "    <tr>\n",
       "      <th>AUD</th>\n",
       "      <td>1.226555</td>\n",
       "      <td>-6.697457</td>\n",
       "      <td>0.069543</td>\n",
       "    </tr>\n",
       "    <tr>\n",
       "      <th>JPY</th>\n",
       "      <td>102.503571</td>\n",
       "      <td>-1.039227</td>\n",
       "      <td>2.986086</td>\n",
       "    </tr>\n",
       "    <tr>\n",
       "      <th>NZD</th>\n",
       "      <td>1.388093</td>\n",
       "      <td>-0.758373</td>\n",
       "      <td>0.015461</td>\n",
       "    </tr>\n",
       "  </tbody>\n",
       "</table>\n",
       "</div>"
      ],
      "text/plain": [
       "           T+1 Price  T+1 Price Change      RMSE\n",
       "Currency                                        \n",
       "CAD         1.194404         -6.818198  0.102099\n",
       "EUR         0.780609         -4.372336  0.006269\n",
       "NOK         7.023805        -18.516394  1.605652\n",
       "SEK         7.713229         -5.986676  0.393708\n",
       "CHF         0.988790         11.828758  0.115737\n",
       "GBP         0.655035        -11.553491  0.077385\n",
       "AUD         1.226555         -6.697457  0.069543\n",
       "JPY       102.503571         -1.039227  2.986086\n",
       "NZD         1.388093         -0.758373  0.015461"
      ]
     },
     "execution_count": 449,
     "metadata": {},
     "output_type": "execute_result"
    }
   ],
   "source": [
    "RSMEdf = pd.DataFrame({'Currency': ['CAD', 'EUR', 'NOK', 'SEK', 'CHF', 'GBP', 'AUD', 'JPY', 'NZD'], 'T+1 Price':OneWeekVal, 'T+1 Price Change':OneWeekPriceChange,'RMSE': cRMSE})\n",
    "RSMEdf = RSMEdf.set_index('Currency')\n",
    "RSMEdf"
   ]
  },
  {
   "cell_type": "code",
   "execution_count": 450,
   "metadata": {},
   "outputs": [],
   "source": [
    "RSMEdf.to_csv('G9.csv')"
   ]
  },
  {
   "cell_type": "code",
   "execution_count": null,
   "metadata": {},
   "outputs": [],
   "source": []
  }
 ],
 "metadata": {
  "kernelspec": {
   "display_name": "Python 3",
   "language": "python",
   "name": "python3"
  },
  "language_info": {
   "codemirror_mode": {
    "name": "ipython",
    "version": 3
   },
   "file_extension": ".py",
   "mimetype": "text/x-python",
   "name": "python",
   "nbconvert_exporter": "python",
   "pygments_lexer": "ipython3",
   "version": "3.7.6"
  }
 },
 "nbformat": 4,
 "nbformat_minor": 5
}
